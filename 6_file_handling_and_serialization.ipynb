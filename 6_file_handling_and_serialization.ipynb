{
 "cells": [
  {
   "cell_type": "markdown",
   "metadata": {},
   "source": [
    "<div style=\"display: flex; align-items: center;\">\n",
    "    <img src=\"../img/es_logo.png\" alt=\"title\" style=\"margin-right: 20px;\">\n",
    "    <h1>File Handling and Serialization</h1>\n",
    "</div>"
   ]
  },
  {
   "cell_type": "markdown",
   "metadata": {},
   "source": [
    "### Submission Instructions\n",
    "\n",
    "- Complete the excercises in the notebook below.\n",
    "- Once you have completed the notebook, you should submit the completed notebook and any additional files you created for the assignment by uploading them to your github profile and sharing the github link as the submission.\n",
    "- your github repostory should contain the required files as well as a README.md file that summarizes what you have learned in this module."
   ]
  },
  {
   "cell_type": "markdown",
   "metadata": {},
   "source": [
    "### Recommended Readings:\n",
    "- GeeckforGeeks: [File Handling in Python](https://www.geeksforgeeks.org/file-handling-python/)\n",
    "- Python Documentation: [File Handling](https://docs.python.org/3/tutorial/inputoutput.html#reading-and-writing-files)\n",
    "- Medium: [File Modes in Python](https://medium.com/@kollisnehagowri/file-modes-in-python-b0ec2e3c89aa)\n",
    "- GeeksforGeeks: [with statement in Python](https://www.geeksforgeeks.org/with-statement-in-python/)\n",
    "- Python Documentation: [pickle](https://docs.python.org/3/library/pickle.html)\n",
    "- Python Documentation: [json](https://docs.python.org/3/library/json.html)"
   ]
  },
  {
   "cell_type": "markdown",
   "metadata": {},
   "source": [
    "#### Exercise 1:\n",
    "Write a python program that creates a file and writes the numbers from 1 to 10 each on a new line. Save your code in a file named `exercise1.py`"
   ]
  },
  {
   "cell_type": "code",
   "execution_count": null,
   "metadata": {},
   "outputs": [],
   "source": [
    "with open('exercise1.py', 'w') as file:\n",
    "    i= 1\n",
    "    while i <= 10:\n",
    "        file.write(f\"Line {i}: {i}\\n\")\n",
    "        i += 1\n",
    "print(\"Numbers from 1-10 have been sent to exercise1.py\")"
   ]
  },
  {
   "cell_type": "markdown",
   "metadata": {},
   "source": [
    "#### Exercise 2:\n",
    "Write a python program that asks the user for input and appends the input to a file. The program should keep asking the user for input until the user enters the word \"stop\". Save your code in a file named `exercise2.py`"
   ]
  },
  {
   "cell_type": "code",
   "execution_count": 3,
   "metadata": {},
   "outputs": [],
   "source": [
    "with open('exercise2.py', 'a') as file:\n",
    "    while True:\n",
    "        x= input(\"Please add words to the file and stop for exit \")\n",
    "        if x == \"stop\":\n",
    "            break \n",
    "        file.write(f\"{x}\\n\")\n",
    "      \n",
    "print(\"Inputs have been appended to exercise2.py\")\n"
   ]
  },
  {
   "cell_type": "markdown",
   "metadata": {},
   "source": [
    "#### Exercise 3:\n",
    "Using pickle module, pickle the dictionary `book` and save it to a file. Then load the dictionary back from the file and print it."
   ]
  },
  {
   "cell_type": "code",
   "execution_count": null,
   "metadata": {},
   "outputs": [
    {
     "name": "stdout",
     "output_type": "stream",
     "text": [
      "Dictionary 'book' has been pickled and saved to book.pickle\n",
      "\n",
      "Loaded dictionary from book.pickle:\n",
      "{'title': 'Head First Python', 'author': 'Paul Barry', 'price': '50 USD'}\n"
     ]
    }
   ],
   "source": [
    "import pickle\n",
    "\n",
    "book = {\"title\": \"Head First Python\", \"author\": \"Paul Barry\", \"price\": \"50 USD\"}\n",
    "\n",
    "# Pickle the dictionary and save it to a file named 'book.pickle'\n",
    "with open('book.pickle', 'wb') as file:\n",
    "    pickle.dump(book, file)\n",
    "\n",
    "print(\"Dictionary 'book' has been pickled and saved to book.pickle\")\n",
    "\n",
    "# Load the dictionary back from the file\n",
    "with open('book.pickle', 'rb') as file:\n",
    "    loaded_book = pickle.load(file)\n",
    "\n",
    "print(\"\\nLoaded dictionary from book.pickle:\")\n",
    "print(loaded_book)"
   ]
  }
 ],
 "metadata": {
  "kernelspec": {
   "display_name": "Python 3",
   "language": "python",
   "name": "python3"
  },
  "language_info": {
   "codemirror_mode": {
    "name": "ipython",
    "version": 3
   },
   "file_extension": ".py",
   "mimetype": "text/x-python",
   "name": "python",
   "nbconvert_exporter": "python",
   "pygments_lexer": "ipython3",
   "version": "3.12.4"
  }
 },
 "nbformat": 4,
 "nbformat_minor": 2
}
